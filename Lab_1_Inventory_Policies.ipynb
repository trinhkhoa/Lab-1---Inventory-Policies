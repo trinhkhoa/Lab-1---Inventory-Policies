{
  "cells": [
    {
      "cell_type": "markdown",
      "id": "b3a91e18",
      "metadata": {
        "id": "b3a91e18"
      },
      "source": [
        "# DA 350 SP23 Lab 1 - Inventory Policies\n",
        "![Whits](https://images.squarespace-cdn.com/content/v1/5e765b4c27758651114287b9/1617400033301-52U5D518SOMY95Q1YNFM/Sugar+Cookie+Whitser+v2-1.png?format=1000w)"
      ]
    },
    {
      "cell_type": "markdown",
      "id": "fd117b4a",
      "metadata": {
        "id": "fd117b4a"
      },
      "source": [
        "## General Lab Instructions: \n",
        "For lab assignments I will provide you the .ipynb file and associated data sets (if any) on Canvas.  Please use this .ipynb file as a starting point and write your code and fill in your answers directly in the notebook.  I will ask specific questions in <b> bolded font </b>.  For written answers, please create the cell as a Markdown type so the text displays neatly.  For code, comment sufficiently so I can understand your process.  Please try to delete unnecessary, old code so it is easy for me to evluate."
      ]
    },
    {
      "cell_type": "markdown",
      "id": "8dd70e1b",
      "metadata": {
        "id": "8dd70e1b"
      },
      "source": [
        "## Lab 1:\n",
        "In this lab you will pose as consultants to help Whit's decide how much custard they should create and stock on a given day.  Produce too little, and they lose potential sales and turn away customers.  Produce too much, and it may spoil and they have to throw it out.  You will explore the connection between predictive and prescriptive analytics and see how the latter can help make decisions like inventory stocking.\n",
        "\n",
        "Note: The methods presented in this lab are not necessarily the best way to solve the problem.  There may exist analytical formulations of the problem which could let us mathematically solve exactly without the need for computation.  This lab is intended to introduce the differences between predictive and prescriptive analytics, and demonstrate one way (even if not mathematically the most elegant) to find optimal decisions."
      ]
    },
    {
      "cell_type": "code",
      "execution_count": null,
      "id": "99d7395e",
      "metadata": {
        "id": "99d7395e"
      },
      "outputs": [],
      "source": [
        "#Import packages\n",
        "import numpy as np\n",
        "import pandas as pd\n",
        "import scipy\n",
        "import matplotlib.pyplot as plt"
      ]
    },
    {
      "cell_type": "markdown",
      "id": "36eb727d",
      "metadata": {
        "id": "36eb727d"
      },
      "source": [
        "<b>1) First read in Whit's sales data as a pandas data frame using the pd.read_csv function.</b>"
      ]
    },
    {
      "cell_type": "code",
      "execution_count": null,
      "id": "20943b74",
      "metadata": {
        "id": "20943b74",
        "colab": {
          "base_uri": "https://localhost:8080/",
          "height": 424
        },
        "outputId": "8aeac247-fcd5-437a-e096-280c923003fc"
      },
      "outputs": [
        {
          "output_type": "execute_result",
          "data": {
            "text/plain": [
              "    Day  Sales\n",
              "0     1     32\n",
              "1     2     49\n",
              "2     3     42\n",
              "3     4     59\n",
              "4     5     30\n",
              "..  ...    ...\n",
              "95   96     26\n",
              "96   97     36\n",
              "97   98     41\n",
              "98   99     35\n",
              "99  100     43\n",
              "\n",
              "[100 rows x 2 columns]"
            ],
            "text/html": [
              "\n",
              "  <div id=\"df-c81f70f0-6865-46e1-b8e6-5889885e60b6\">\n",
              "    <div class=\"colab-df-container\">\n",
              "      <div>\n",
              "<style scoped>\n",
              "    .dataframe tbody tr th:only-of-type {\n",
              "        vertical-align: middle;\n",
              "    }\n",
              "\n",
              "    .dataframe tbody tr th {\n",
              "        vertical-align: top;\n",
              "    }\n",
              "\n",
              "    .dataframe thead th {\n",
              "        text-align: right;\n",
              "    }\n",
              "</style>\n",
              "<table border=\"1\" class=\"dataframe\">\n",
              "  <thead>\n",
              "    <tr style=\"text-align: right;\">\n",
              "      <th></th>\n",
              "      <th>Day</th>\n",
              "      <th>Sales</th>\n",
              "    </tr>\n",
              "  </thead>\n",
              "  <tbody>\n",
              "    <tr>\n",
              "      <th>0</th>\n",
              "      <td>1</td>\n",
              "      <td>32</td>\n",
              "    </tr>\n",
              "    <tr>\n",
              "      <th>1</th>\n",
              "      <td>2</td>\n",
              "      <td>49</td>\n",
              "    </tr>\n",
              "    <tr>\n",
              "      <th>2</th>\n",
              "      <td>3</td>\n",
              "      <td>42</td>\n",
              "    </tr>\n",
              "    <tr>\n",
              "      <th>3</th>\n",
              "      <td>4</td>\n",
              "      <td>59</td>\n",
              "    </tr>\n",
              "    <tr>\n",
              "      <th>4</th>\n",
              "      <td>5</td>\n",
              "      <td>30</td>\n",
              "    </tr>\n",
              "    <tr>\n",
              "      <th>...</th>\n",
              "      <td>...</td>\n",
              "      <td>...</td>\n",
              "    </tr>\n",
              "    <tr>\n",
              "      <th>95</th>\n",
              "      <td>96</td>\n",
              "      <td>26</td>\n",
              "    </tr>\n",
              "    <tr>\n",
              "      <th>96</th>\n",
              "      <td>97</td>\n",
              "      <td>36</td>\n",
              "    </tr>\n",
              "    <tr>\n",
              "      <th>97</th>\n",
              "      <td>98</td>\n",
              "      <td>41</td>\n",
              "    </tr>\n",
              "    <tr>\n",
              "      <th>98</th>\n",
              "      <td>99</td>\n",
              "      <td>35</td>\n",
              "    </tr>\n",
              "    <tr>\n",
              "      <th>99</th>\n",
              "      <td>100</td>\n",
              "      <td>43</td>\n",
              "    </tr>\n",
              "  </tbody>\n",
              "</table>\n",
              "<p>100 rows × 2 columns</p>\n",
              "</div>\n",
              "      <button class=\"colab-df-convert\" onclick=\"convertToInteractive('df-c81f70f0-6865-46e1-b8e6-5889885e60b6')\"\n",
              "              title=\"Convert this dataframe to an interactive table.\"\n",
              "              style=\"display:none;\">\n",
              "        \n",
              "  <svg xmlns=\"http://www.w3.org/2000/svg\" height=\"24px\"viewBox=\"0 0 24 24\"\n",
              "       width=\"24px\">\n",
              "    <path d=\"M0 0h24v24H0V0z\" fill=\"none\"/>\n",
              "    <path d=\"M18.56 5.44l.94 2.06.94-2.06 2.06-.94-2.06-.94-.94-2.06-.94 2.06-2.06.94zm-11 1L8.5 8.5l.94-2.06 2.06-.94-2.06-.94L8.5 2.5l-.94 2.06-2.06.94zm10 10l.94 2.06.94-2.06 2.06-.94-2.06-.94-.94-2.06-.94 2.06-2.06.94z\"/><path d=\"M17.41 7.96l-1.37-1.37c-.4-.4-.92-.59-1.43-.59-.52 0-1.04.2-1.43.59L10.3 9.45l-7.72 7.72c-.78.78-.78 2.05 0 2.83L4 21.41c.39.39.9.59 1.41.59.51 0 1.02-.2 1.41-.59l7.78-7.78 2.81-2.81c.8-.78.8-2.07 0-2.86zM5.41 20L4 18.59l7.72-7.72 1.47 1.35L5.41 20z\"/>\n",
              "  </svg>\n",
              "      </button>\n",
              "      \n",
              "  <style>\n",
              "    .colab-df-container {\n",
              "      display:flex;\n",
              "      flex-wrap:wrap;\n",
              "      gap: 12px;\n",
              "    }\n",
              "\n",
              "    .colab-df-convert {\n",
              "      background-color: #E8F0FE;\n",
              "      border: none;\n",
              "      border-radius: 50%;\n",
              "      cursor: pointer;\n",
              "      display: none;\n",
              "      fill: #1967D2;\n",
              "      height: 32px;\n",
              "      padding: 0 0 0 0;\n",
              "      width: 32px;\n",
              "    }\n",
              "\n",
              "    .colab-df-convert:hover {\n",
              "      background-color: #E2EBFA;\n",
              "      box-shadow: 0px 1px 2px rgba(60, 64, 67, 0.3), 0px 1px 3px 1px rgba(60, 64, 67, 0.15);\n",
              "      fill: #174EA6;\n",
              "    }\n",
              "\n",
              "    [theme=dark] .colab-df-convert {\n",
              "      background-color: #3B4455;\n",
              "      fill: #D2E3FC;\n",
              "    }\n",
              "\n",
              "    [theme=dark] .colab-df-convert:hover {\n",
              "      background-color: #434B5C;\n",
              "      box-shadow: 0px 1px 3px 1px rgba(0, 0, 0, 0.15);\n",
              "      filter: drop-shadow(0px 1px 2px rgba(0, 0, 0, 0.3));\n",
              "      fill: #FFFFFF;\n",
              "    }\n",
              "  </style>\n",
              "\n",
              "      <script>\n",
              "        const buttonEl =\n",
              "          document.querySelector('#df-c81f70f0-6865-46e1-b8e6-5889885e60b6 button.colab-df-convert');\n",
              "        buttonEl.style.display =\n",
              "          google.colab.kernel.accessAllowed ? 'block' : 'none';\n",
              "\n",
              "        async function convertToInteractive(key) {\n",
              "          const element = document.querySelector('#df-c81f70f0-6865-46e1-b8e6-5889885e60b6');\n",
              "          const dataTable =\n",
              "            await google.colab.kernel.invokeFunction('convertToInteractive',\n",
              "                                                     [key], {});\n",
              "          if (!dataTable) return;\n",
              "\n",
              "          const docLinkHtml = 'Like what you see? Visit the ' +\n",
              "            '<a target=\"_blank\" href=https://colab.research.google.com/notebooks/data_table.ipynb>data table notebook</a>'\n",
              "            + ' to learn more about interactive tables.';\n",
              "          element.innerHTML = '';\n",
              "          dataTable['output_type'] = 'display_data';\n",
              "          await google.colab.output.renderOutput(dataTable, element);\n",
              "          const docLink = document.createElement('div');\n",
              "          docLink.innerHTML = docLinkHtml;\n",
              "          element.appendChild(docLink);\n",
              "        }\n",
              "      </script>\n",
              "    </div>\n",
              "  </div>\n",
              "  "
            ]
          },
          "metadata": {},
          "execution_count": 2
        }
      ],
      "source": [
        "#Write your code/answer to 1) in this cell\n",
        "whit_sale = pd.read_csv('Whits_sales_data.csv')\n",
        "whit_sale"
      ]
    },
    {
      "cell_type": "markdown",
      "id": "79c77bde",
      "metadata": {
        "id": "79c77bde"
      },
      "source": [
        "Each row of the sales data represents the number of gallons of custard sold on that day."
      ]
    },
    {
      "cell_type": "markdown",
      "id": "8446b89d",
      "metadata": {
        "id": "8446b89d"
      },
      "source": [
        "<b> 2) Fit a normal distribution to the sales data using the scipy.stats.norm.fit() python function.  What are the fitted mean and variance of the distribution? </b>\n",
        "You can read about the norm function in the scipy library here: https://docs.scipy.org/doc/scipy/reference/generated/scipy.stats.norm.html#scipy.stats.norm"
      ]
    },
    {
      "cell_type": "code",
      "execution_count": null,
      "id": "6f683078",
      "metadata": {
        "id": "6f683078",
        "colab": {
          "base_uri": "https://localhost:8080/"
        },
        "outputId": "424460c9-92bf-485b-f5dd-996f795f093b"
      },
      "outputs": [
        {
          "output_type": "execute_result",
          "data": {
            "text/plain": [
              "(39.49, 8.337259741665724)"
            ]
          },
          "metadata": {},
          "execution_count": 3
        }
      ],
      "source": [
        "#Write your code/answer to 2) in this cell\n",
        "from scipy.stats import norm\n",
        "norm.fit(whit_sale['Sales'])"
      ]
    },
    {
      "cell_type": "markdown",
      "id": "43ff9916",
      "metadata": {
        "id": "43ff9916"
      },
      "source": [
        "<b> 3) Plot the data and the fitted normal curve - how strongly or weakly do the sales data fit a normal distribution? </b>\n",
        "The top answer in https://stackoverflow.com/questions/20011122/fitting-a-normal-distribution-to-1d-data gives a simple way to plot the histogram of data and the fitted curve."
      ]
    },
    {
      "cell_type": "code",
      "execution_count": null,
      "id": "bfdad1f0",
      "metadata": {
        "id": "bfdad1f0",
        "colab": {
          "base_uri": "https://localhost:8080/",
          "height": 265
        },
        "outputId": "3935b7c2-d0f2-4ddb-a9ef-ac52e470552f"
      },
      "outputs": [
        {
          "output_type": "display_data",
          "data": {
            "text/plain": [
              "<Figure size 432x288 with 1 Axes>"
            ],
            "image/png": "[encoded data removed]"
          },
          "metadata": {
            "needs_background": "light"
          }
        }
      ],
      "source": [
        "# Generate some data for this demonstration.\n",
        "data = whit_sale['Sales']\n",
        "\n",
        "# Fit a normal distribution to the data:\n",
        "mu, std = norm.fit(data)\n",
        "\n",
        "# Plot the histogram.\n",
        "plt.hist(data, bins=25, density=True, alpha=0.6, color='b')\n",
        "\n",
        "# Plot the PDF.\n",
        "xmin, xmax = plt.xlim()\n",
        "x = np.linspace(xmin, xmax, 100)\n",
        "p = norm.pdf(x, mu, std)\n",
        "plt.plot(x, p, 'k', linewidth=2)\n",
        "\n",
        "plt.show()"
      ]
    },
    {
      "cell_type": "markdown",
      "id": "f88500aa",
      "metadata": {
        "id": "f88500aa"
      },
      "source": [
        "<b> 4) What is your best estimate of the sales on any given day? </b> "
      ]
    },
    {
      "cell_type": "markdown",
      "id": "74efb9d2",
      "metadata": {
        "id": "74efb9d2"
      },
      "source": [
        "$39.49$ sale"
      ]
    },
    {
      "cell_type": "markdown",
      "id": "f5d2f4e5",
      "metadata": {
        "id": "f5d2f4e5"
      },
      "source": [
        "Two common parameters in inventory policy decisions are the <i> holding cost h</i> and <i> underage cost u</i>.  The holding cost represents economic costs associated with keeping an item in inventory and not selling it for some unit of time.  It can account for costs of warehousing or storage, lost opportunity to display or sell other products, depreciation, wasteage, and more.  The underage cost represents economic costs associated with not having a unit for sale when demand arises.  It can account for lost profit, reduction in brand value, and potential lost future sales.  It is generally assumed these costs accrue at the end of the day and are on a per-unit basis.  For example, if Whit's sold all the custard they stocked in a day but had 3 demand they could not fulfill, they would accrue 3<i>u</i> cost, or if they met all demand but had 2 custard left over they would accrue 2<i>h</i> cost."
      ]
    },
    {
      "cell_type": "markdown",
      "id": "b886e9d2",
      "metadata": {
        "id": "b886e9d2"
      },
      "source": [
        "<b> 5) What factors should be accounted for into estimating the holding and underage costs of Whit's?  How could you collect data to estimate these? </b>"
      ]
    },
    {
      "cell_type": "markdown",
      "id": "25ea2743",
      "metadata": {
        "id": "25ea2743"
      },
      "source": [
        "The factor that should be accounted for into estimating the holding cost of Whits is inventory costs, electrical cost for keeping the Whits cool, ... and the way to collect the data is to "
      ]
    },
    {
      "cell_type": "markdown",
      "id": "e00e3627",
      "metadata": {
        "id": "e00e3627"
      },
      "source": [
        "For simplicity and consistency, assume we follow your above suggestions and estimate h = \\\\$3 per gallon per day, and u = \\$7 per gallon per day."
      ]
    },
    {
      "cell_type": "markdown",
      "id": "31d9e651",
      "metadata": {
        "id": "31d9e651"
      },
      "source": [
        "<b> 6) If our demand estimate from 4) was 100% accurate and the demand on a given day was deterministic with no randomness, how much ice cream should Whit's stock on a day?  What would be the associated holding and underage costs? </b>"
      ]
    },
    {
      "cell_type": "markdown",
      "id": "d3440cd1",
      "metadata": {
        "id": "d3440cd1"
      },
      "source": [
        "If our demand estimate from 4) was 100% accurate and the demand on a given day was deterministic with no randomness, Whit's stock should be 39.49 on a day associated 0 ```holding cost``` and 0 ```underage costs```."
      ]
    },
    {
      "cell_type": "markdown",
      "id": "b6af649b",
      "metadata": {
        "id": "b6af649b"
      },
      "source": [
        "If this situation of deterministic demand held, we would be done, with no need for prescriptive analytics!  However, in the real world we will always have randomness, and that is where prescriptive analytics can step in.  One way we can approximate the real world randomness is through <i> simulation </i>.  We will learn much more about simulation later in the semester, for now we will use a simple example.  "
      ]
    },
    {
      "cell_type": "markdown",
      "id": "9241a9ee",
      "metadata": {
        "id": "9241a9ee"
      },
      "source": [
        "<b> 7) Generate 1000 random draws from the normal distribution you fit in 2) using the np.random.normal function of python.  We will imagine these are the demands on 1000 consecutive days.  Use a for-loop to calculate the average holding costs, underage costs, and total costs (holding plus underage) for inventory policies that would stock 20,21, ..., 60 gallons of custard on a day.</b>  You will likely need 2 nested for-loops: the outer loop operates over the 41 inventory levels, the inner loop assess the holding cost and underage cost on each of the 1000 days then averages.  Your final result should be a 41x4 table: each row is a potential inventory stock level, and the 4 columns are the stock level and each of the 3 costs. "
      ]
    },
    {
      "cell_type": "code",
      "source": [
        "import statistics\n",
        "s = np.random.normal(statistics.mean(whit_sale['Sales']), statistics.stdev(whit_sale['Sales']), 1000)\n",
        "stock_levels = []\n",
        "holding_costs = []\n",
        "underage_costs = []\n",
        "total_costs = []    \n",
        "off_hc = []\n",
        "off_tc = []\n",
        "off_uc = []\n",
        "for stock_level in range(20, 61):\n",
        "    holding_cost = 0\n",
        "    underage_cost = 0\n",
        "    total_cost = 0\n",
        "    for demand in s:\n",
        "        if demand > stock_level:\n",
        "            holding_cost = 0\n",
        "            underage_cost = (demand - stock_level) *7\n",
        "        elif demand < stock_level:\n",
        "            holding_cost = (stock_level - demand) * 3\n",
        "            underage_cost = 0\n",
        "        else:\n",
        "            holding_cost = 0\n",
        "            underage_cost = 0\n",
        "        total_cost = holding_cost + underage_cost\n",
        "        holding_costs.append(holding_cost)\n",
        "        stock_levels.append(stock_level)\n",
        "        underage_costs.append(underage_cost)\n",
        "        total_costs.append(total_cost)\n",
        "for i in range(0, len(holding_costs), 1000):\n",
        "    hc = holding_costs[i:i+1000]\n",
        "    uc = underage_costs[i:i+1000]\n",
        "    tc = total_costs[i:i+1000]\n",
        "    meanhc = np.mean(hc)\n",
        "    meanuc = np.mean(uc)\n",
        "    meantc = np.mean(tc)\n",
        "    off_hc.append(meanhc)\n",
        "    off_uc.append(meanuc)\n",
        "    off_tc.append(meantc)\n",
        "stock_levels = [i for i in range(20,61)]\n",
        "df = pd.DataFrame({'Stock level':stock_levels, 'Holding cost': off_hc, 'Underage cost': off_uc, 'Total cost': off_tc})\n",
        "print(pd.DataFrame(df))"
      ],
      "metadata": {
        "colab": {
          "base_uri": "https://localhost:8080/"
        },
        "id": "TnGeZYS0OMqI",
        "outputId": "cad18dad-626c-4819-f0e0-c97efd4be30e"
      },
      "id": "TnGeZYS0OMqI",
      "execution_count": null,
      "outputs": [
        {
          "output_type": "stream",
          "name": "stdout",
          "text": [
            "    Stock level  Holding cost  Underage cost  Total cost\n",
            "0            20      0.130825     132.285095  132.415920\n",
            "1            21      0.202315     125.451904  125.654219\n",
            "2            22      0.287423     118.650489  118.937912\n",
            "3            23      0.390407     111.890787  112.281194\n",
            "4            24      0.520920     105.195317  105.716237\n",
            "5            25      0.678900      98.563936   99.242836\n",
            "6            26      0.864008      91.995855   92.859862\n",
            "7            27      1.093561      85.531478   86.625039\n",
            "8            28      1.372836      79.183121   80.555958\n",
            "9            29      1.698038      72.941924   74.639962\n",
            "10           30      2.106580      66.895191   69.001771\n",
            "11           31      2.615735      61.083219   63.698954\n",
            "12           32      3.219749      55.492584   58.712332\n",
            "13           33      3.927997      50.145164   54.073161\n",
            "14           34      4.723751      45.001921   49.725672\n",
            "15           35      5.635334      40.128950   45.764284\n",
            "16           36      6.650881      35.498558   42.149439\n",
            "17           37      7.792526      31.162398   38.954924\n",
            "18           38      9.075253      27.155427   36.230680\n",
            "19           39     10.486850      23.449153   33.936003\n",
            "20           40     12.046441      20.088198   32.134638\n",
            "21           41     13.763141      17.093831   30.856971\n",
            "22           42     15.592189      14.361610   29.953799\n",
            "23           43     17.547899      11.924933   29.472831\n",
            "24           44     19.635372       9.795703   29.431075\n",
            "25           45     21.848600       7.959903   29.808503\n",
            "26           46     24.169689       6.375777   30.545466\n",
            "27           47     26.594091       5.032714   31.626805\n",
            "28           48     29.133974       3.959109   33.093083\n",
            "29           49     31.763734       3.095216   34.858951\n",
            "30           50     34.460331       2.387274   36.847605\n",
            "31           51     37.211934       1.807683   39.019617\n",
            "32           52     40.012787       1.343006   41.355793\n",
            "33           53     42.850409       0.964124   43.814533\n",
            "34           54     45.729841       0.682798   46.412638\n",
            "35           55     48.638456       0.469567   49.108023\n",
            "36           56     51.575768       0.323295   51.899062\n",
            "37           57     54.534598       0.227232   54.761830\n",
            "38           58     57.502986       0.153471   57.656457\n",
            "39           59     60.481712       0.103830   60.585542\n",
            "40           60     63.469617       0.075610   63.545227\n"
          ]
        }
      ]
    },
    {
      "cell_type": "markdown",
      "id": "afbb9076",
      "metadata": {
        "id": "afbb9076"
      },
      "source": [
        "<b> 8) According to your table from 7), how much inventory should Whit's stock to minimize total costs? What are the associated holding and underage costs, and why are they not equal? </b>"
      ]
    },
    {
      "cell_type": "code",
      "source": [
        "x = [i for i in range(20,61)]\n",
        "y1 = np.array(off_hc)\n",
        "y2 = np.array(off_uc)\n",
        "\n",
        "plt.bar(x, y1, color='r')\n",
        "plt.bar(x, y2, bottom=y1, color='b')\n",
        "plt.xlabel(\"Stock levels\")\n",
        "plt.ylabel(\"Costs\")\n",
        "plt.legend([\"Holding cost\", \"Underage cost\"])\n",
        "plt.show()"
      ],
      "metadata": {
        "colab": {
          "base_uri": "https://localhost:8080/",
          "height": 279
        },
        "id": "A-jwFFLP2VbD",
        "outputId": "ae6946e9-9501-4dac-e1d7-fbb706f01f08"
      },
      "id": "A-jwFFLP2VbD",
      "execution_count": null,
      "outputs": [
        {
          "output_type": "display_data",
          "data": {
            "text/plain": [
              "<Figure size 432x288 with 1 Axes>"
            ],
            "image/png": "[encoded data removed]"
          },
          "metadata": {
            "needs_background": "light"
          }
        }
      ]
    },
    {
      "cell_type": "markdown",
      "id": "4e7aeba9",
      "metadata": {
        "id": "4e7aeba9"
      },
      "source": [
        "According to your table from ```7)```, Whit should stock at level $44$ to minimize total costs, which is $29.43$, associated at $19.6$ ```underage costs``` and $9.8$ ```holding cost```. \n",
        "\n",
        "Associated back to the question ```5)``` that for simplicity and consistency, assume we follow your above suggestions and estimate h = $\\$3$ per gallon per day, and u = $\\$7$ per gallon per day, because the disparity between the base price has caused the price to be difference at lowest total price. Furthermore, taking the data from table ```7)```, if taking ```holding cost``` at stock level $44$ divided by ```holding cost``` at base cost \\& if taking ```underage cost``` at stock level $44$ divided by ```underage cost``` at base cost, we will got $$19.6/7=2.8 ≈ 3$$$$9.8/3=3.2 ≈ 3$$, which takes the nearly same amount of day to get the lowest total cost."
      ]
    },
    {
      "cell_type": "markdown",
      "id": "d4de0e3a",
      "metadata": {
        "id": "d4de0e3a"
      },
      "source": [
        "<b> 9) Compare and contrast your answers to 6) and 8).  Why are the answers different, and which do we trust more? </b>"
      ]
    },
    {
      "cell_type": "markdown",
      "id": "dae1e6f6",
      "metadata": {
        "id": "dae1e6f6"
      },
      "source": [
        "The answer from ```6)``` says that if our demand estimate from 4) was 100% accurate and the demand on a given day was deterministic with no randomness, Whit's stock should be 39.49 on a day associated 0 ```holding cost``` and 0 ```underage costs```, while the answer from ```8)``` is at ```stock level``` $44$ associated at $19.6$ ```underage costs``` and $9.8$ ```holding cost```. Because the answer from 6) is on a much smaller scale compare to 8) and at 6) we are considering the best senario (was 100% accurate and the demand on a given day was deterministic with no randomness), while 8) has a large amount of data and 100% randomness. We trust the simulation more, as the simulation is on a much bigger scalea and randomess, which is not always at its best senario."
      ]
    },
    {
      "cell_type": "markdown",
      "id": "ab1903b4",
      "metadata": {
        "id": "ab1903b4"
      },
      "source": [
        "<b> 10) Now assume we collected additional data to better inform demand predictions, such as temperature.  We know custard sales should be positively correlated with temperature (how many people eat custard when it's 20 degrees out!?).  How could you adapt steps 2), 7), and 8) to make use of this additional temperature data?  Propose specific methods. </b>"
      ]
    },
    {
      "cell_type": "markdown",
      "id": "5b05c821",
      "metadata": {
        "id": "5b05c821"
      },
      "source": [
        "I would run the ```holding-undergae-total cost``` on a range of temperature by adding 1 for loop and call a recursion of the code in ```7)``` in that way, we will have the distribution, the lowest stock level at every temperature that we intend to run. From then we find the corrolation between the temperature and the lowest stock level to see which has the smallest $R^{2}$ ."
      ]
    },
    {
      "cell_type": "markdown",
      "id": "94b55e2e",
      "metadata": {
        "id": "94b55e2e"
      },
      "source": [
        "<b> 11) What are some other contexts inventory management problems like this might arise?  Give examples of other situations that might face similar problems. </b>"
      ]
    },
    {
      "cell_type": "markdown",
      "id": "cf662ae8",
      "metadata": {
        "id": "cf662ae8"
      },
      "source": [
        "Some senario such has a competitive that sell ice cream in the same street with a lower price, and in this case, we would run the sell in range the default price to the base price, to see which one has higher customer and decent amount of income, but still can beat the other ice cream shop, or when the price of the component rises, we have to run a simulation if we can keep the current price or we have to raise the price, and how many customer will we lose if we raise in a range amount."
      ]
    }
  ],
  "metadata": {
    "kernelspec": {
      "display_name": "Python 3 (ipykernel)",
      "language": "python",
      "name": "python3"
    },
    "language_info": {
      "codemirror_mode": {
        "name": "ipython",
        "version": 3
      },
      "file_extension": ".py",
      "mimetype": "text/x-python",
      "name": "python",
      "nbconvert_exporter": "python",
      "pygments_lexer": "ipython3",
      "version": "3.9.13"
    },
    "colab": {
      "provenance": []
    }
  },
  "nbformat": 4,
  "nbformat_minor": 5
}